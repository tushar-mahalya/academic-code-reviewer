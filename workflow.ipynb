{
 "cells": [
  {
   "cell_type": "code",
   "id": "initial_id",
   "metadata": {
    "collapsed": true,
    "ExecuteTime": {
     "end_time": "2024-06-21T20:27:21.284673Z",
     "start_time": "2024-06-21T20:27:21.270319Z"
    }
   },
   "source": [
    "import configparser\n",
    "import os"
   ],
   "outputs": [],
   "execution_count": 1
  },
  {
   "metadata": {
    "ExecuteTime": {
     "end_time": "2024-06-21T20:27:21.978904Z",
     "start_time": "2024-06-21T20:27:21.958233Z"
    }
   },
   "cell_type": "code",
   "source": [
    "# For reading configuration files for OpenAI Key Credentials\n",
    "config = configparser.ConfigParser()\n",
    "config.read('./credentials.ini')\n",
    "\n",
    "OPENAI_API_KEY = config.get('OpenAI', 'api_key')\n",
    "\n",
    "# Setting API key as environment variable\n",
    "os.environ['OPENAI_API_KEY'] = OPENAI_API_KEY"
   ],
   "id": "d62033571100e67e",
   "outputs": [],
   "execution_count": 2
  },
  {
   "metadata": {
    "ExecuteTime": {
     "end_time": "2024-06-21T20:27:25.557992Z",
     "start_time": "2024-06-21T20:27:22.808181Z"
    }
   },
   "cell_type": "code",
   "source": "from src.models import GenerativeFeatures",
   "id": "1a99c33efc38d2f3",
   "outputs": [],
   "execution_count": 3
  },
  {
   "metadata": {
    "ExecuteTime": {
     "end_time": "2024-06-21T20:27:27.166242Z",
     "start_time": "2024-06-21T20:27:27.152696Z"
    }
   },
   "cell_type": "code",
   "source": [
    "# Lecture YouTube video of Lec-14: Prototyping Techniques, Software Engineering (Degree Level)\n",
    "lecture_video = 'https://youtu.be/jQ_vO3xjFt0?si=OBucznx9N6eHr5jp'\n",
    "\n",
    "# Sample student code and solution code for testing\n",
    "student_code = '''\n",
    "def count_frequencies(lst):\n",
    "    frequency = []\n",
    "    for item in lst:\n",
    "        frequency[item] = lst.count(item)\n",
    "    return frequency\n",
    "    '''\n",
    "\n",
    "solution_code = '''\n",
    "def count_frequencies(lst):\n",
    "    frequency = {}\n",
    "    for item in lst:\n",
    "        if item in frequency:\n",
    "            frequency[item] += 1\n",
    "        else:\n",
    "            frequency[item] = 1\n",
    "    return frequency\n",
    "    '''"
   ],
   "id": "f8221089740c8cf3",
   "outputs": [],
   "execution_count": 4
  },
  {
   "metadata": {
    "ExecuteTime": {
     "end_time": "2024-06-21T20:33:56.915916Z",
     "start_time": "2024-06-21T20:33:41.657627Z"
    }
   },
   "cell_type": "code",
   "source": [
    "generate = GenerativeFeatures()\n",
    "\n",
    "lecture_summary = generate.generate_lecture_summary(lecture_video)\n",
    "code_feedback = generate.generate_code_feedback(student_code, solution_code)"
   ],
   "id": "f06b859b947e66d",
   "outputs": [],
   "execution_count": 9
  },
  {
   "metadata": {
    "ExecuteTime": {
     "end_time": "2024-06-21T20:33:56.952064Z",
     "start_time": "2024-06-21T20:33:56.927836Z"
    }
   },
   "cell_type": "code",
   "source": "print(lecture_summary)",
   "id": "407440a3612da8ce",
   "outputs": [
    {
     "name": "stdout",
     "output_type": "stream",
     "text": [
      "\n",
      "This document discusses the importance of designing usable interfaces that are effective, efficient, learnable, memorable, and safe. It outlines the process of implementing user stories and requirements in interface design and emphasizes the need for positive user experiences. Prototyping is highlighted as a useful tool for quickly testing and gathering feedback from users, allowing for iteration and decision-making. Different types of prototypes, such as paper and digital, are discussed, along with their benefits in the design process. The use of storyboards and paper prototypes in developing a shared understanding among stakeholders is also emphasized. The example of a virtual reality application, Speakup, is used to illustrate the importance of setting, sequence, and satisfaction in interface design. The concept of a holistic focus in interface design is also discussed, along with the benefits of avoiding commitment to a specific user interface. The use of paper prototypes in designing screens and UI elements is highlighted as a valuable tool for refining user tasks and goals. Overall, the content emphasizes the importance of user-centered design and the role of prototyping in achieving effective and usable user interfaces.\n"
     ]
    }
   ],
   "execution_count": 10
  },
  {
   "metadata": {
    "ExecuteTime": {
     "end_time": "2024-06-21T20:33:57.311790Z",
     "start_time": "2024-06-21T20:33:57.299008Z"
    }
   },
   "cell_type": "code",
   "source": "print(code_feedback)",
   "id": "5bf330091dca000c",
   "outputs": [
    {
     "name": "stdout",
     "output_type": "stream",
     "text": [
      "\n",
      "Feedback:\n",
      "Your code has some inefficiencies and errors that can be improved upon. Firstly, the variable \"frequency\" is initialized as a list, but it should be a dictionary to store key-value pairs. This can lead to errors when trying to access or update the frequency of a particular item. In the solution code, the variable is correctly initialized as a dictionary.\n",
      "\n",
      "Another issue is that your code uses the .count() method to count the frequency of each item in the list. This method has a time complexity of O(n), which means that for a list of n items, it will have to iterate through the entire list n times. This can be very inefficient for larger lists. In the solution code, the frequency is updated using a simple if-else statement, which has a time complexity of O(1).\n",
      "\n",
      "Furthermore, your code does not account for the case where an item may appear multiple times in the list. In this case, your code will only count the first occurrence of the item and ignore the rest. The solution code addresses this issue by incrementing the frequency of the item each time it appears in the list.\n",
      "\n",
      "Points to Improve:\n",
      "- Initialize the \"frequency\" variable as a dictionary instead of a list.\n",
      "- Avoid using the .count() method to\n"
     ]
    }
   ],
   "execution_count": 11
  }
 ],
 "metadata": {
  "kernelspec": {
   "display_name": "Python 3",
   "language": "python",
   "name": "python3"
  },
  "language_info": {
   "codemirror_mode": {
    "name": "ipython",
    "version": 2
   },
   "file_extension": ".py",
   "mimetype": "text/x-python",
   "name": "python",
   "nbconvert_exporter": "python",
   "pygments_lexer": "ipython2",
   "version": "2.7.6"
  }
 },
 "nbformat": 4,
 "nbformat_minor": 5
}
